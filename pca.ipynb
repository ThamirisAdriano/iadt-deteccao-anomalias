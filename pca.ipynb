{
  "nbformat": 4,
  "nbformat_minor": 0,
  "metadata": {
    "colab": {
      "provenance": [],
      "authorship_tag": "ABX9TyMGawRA5eBBpJcHdSWCe/t2",
      "include_colab_link": true
    },
    "kernelspec": {
      "name": "python3",
      "display_name": "Python 3"
    },
    "language_info": {
      "name": "python"
    }
  },
  "cells": [
    {
      "cell_type": "markdown",
      "metadata": {
        "id": "view-in-github",
        "colab_type": "text"
      },
      "source": [
        "<a href=\"https://colab.research.google.com/github/ThamirisAdriano/iadt-deteccao-anomalias/blob/master/pca.ipynb\" target=\"_parent\"><img src=\"https://colab.research.google.com/assets/colab-badge.svg\" alt=\"Open In Colab\"/></a>"
      ]
    },
    {
      "cell_type": "code",
      "execution_count": 2,
      "metadata": {
        "id": "jlYgiZf9gGMr"
      },
      "outputs": [],
      "source": [
        "import numpy as np\n",
        "import matplotlib.pyplot as plt\n",
        "from sklearn.decomposition import PCA\n"
      ]
    },
    {
      "cell_type": "markdown",
      "source": [
        " Gerando dados de tráfego e adicionando dados anômalos"
      ],
      "metadata": {
        "id": "SZwC9iWto7-1"
      }
    },
    {
      "cell_type": "code",
      "source": [
        "np.random.seed(42)\n",
        "\n",
        "normal_traffic = np.random.normal(loc=50, scale=10, size=(100, 3))\n",
        "anomalous_traffic = np.array([[120, 200, 80], [5, 10, 5]])\n",
        "network_traffic = np.vstack([normal_traffic, anomalous_traffic])\n",
        "\n"
      ],
      "metadata": {
        "id": "9_kvZOmro1iG"
      },
      "execution_count": 3,
      "outputs": []
    },
    {
      "cell_type": "markdown",
      "source": [
        "Aplicando o PCA e visualizando os dados"
      ],
      "metadata": {
        "id": "nkkUjPY7pJPZ"
      }
    },
    {
      "cell_type": "code",
      "source": [
        "pca = PCA(n_components=2)\n",
        "pca_result = pca.fit_transform(network_traffic)\n",
        "explained_variance = pca.explained_variance_ratio_\n",
        "print(f\"Variância explicada por cada componente principal: {explained_variance}\")\n",
        "\n",
        "plt.figure(figsize=(10, 6))\n",
        "plt.scatter(pca_result[:-2, 0], pca_result[:-2, 1], label='Tráfego Normal', alpha=0.7, color='b')\n",
        "plt.scatter(pca_result[-2:, 0], pca_result[-2:, 1], color='r', label='Anomalias', marker='x', s=100)\n",
        "plt.title('Redução Dimensional com PCA (Tráfego de Rede)')\n",
        "plt.xlabel('Componente Principal 1')\n",
        "plt.ylabel('Componente Principal 2')\n",
        "plt.legend()\n",
        "plt.grid(alpha=0.5)\n",
        "plt.show()"
      ],
      "metadata": {
        "id": "MG6kYs6Wo5RR"
      },
      "execution_count": null,
      "outputs": []
    }
  ]
}